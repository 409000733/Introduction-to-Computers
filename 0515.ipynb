{
  "nbformat": 4,
  "nbformat_minor": 0,
  "metadata": {
    "colab": {
      "provenance": [],
      "authorship_tag": "ABX9TyNv8bFQHXgWHpKllNi8ve3m",
      "include_colab_link": true
    },
    "kernelspec": {
      "name": "python3",
      "display_name": "Python 3"
    },
    "language_info": {
      "name": "python"
    }
  },
  "cells": [
    {
      "cell_type": "markdown",
      "metadata": {
        "id": "view-in-github",
        "colab_type": "text"
      },
      "source": [
        "<a href=\"https://colab.research.google.com/github/409000733/Introduction-to-Computers/blob/main/0515.ipynb\" target=\"_parent\"><img src=\"https://colab.research.google.com/assets/colab-badge.svg\" alt=\"Open In Colab\"/></a>"
      ]
    },
    {
      "cell_type": "code",
      "execution_count": 1,
      "metadata": {
        "colab": {
          "base_uri": "https://localhost:8080/"
        },
        "id": "rn7djV1yt310",
        "outputId": "7aebc788-09dc-4ba9-856d-7273f4a047ae"
      },
      "outputs": [
        {
          "output_type": "stream",
          "name": "stdout",
          "text": [
            "0515\n"
          ]
        }
      ],
      "source": [
        "print(\"0515\")"
      ]
    },
    {
      "cell_type": "code",
      "source": [
        "rain = input(\"今天會下雨嗎?\")\n",
        "if (rain == \"Y\" or rain == \"y\"):\n",
        "  print(\"出門記得帶傘!\")\n",
        "elif (rain == \"N\" or rain == \"n\"):\n",
        "  print(\"出門記得帶傘!\")\n",
        "else:\n",
        "  print(\"重新輸入\")"
      ],
      "metadata": {
        "colab": {
          "base_uri": "https://localhost:8080/"
        },
        "id": "uMG2fxXjv8QW",
        "outputId": "d98f219d-47ef-4f01-e495-5aeb217ca678"
      },
      "execution_count": 3,
      "outputs": [
        {
          "output_type": "stream",
          "name": "stdout",
          "text": [
            "今天會下雨嗎?A\n",
            "重新輸入\n"
          ]
        }
      ]
    },
    {
      "cell_type": "code",
      "source": [
        "T = float(input(\"請輸入體溫:\"))\n",
        "if T >= 37.5:\n",
        "  print(\"體溫過高!\")\n",
        "elif T >= 37:\n",
        "  print(\"體溫略高!\")\n",
        "elif T >= 34:\n",
        "  print(\"體溫正常!\")\n",
        "else:\n",
        "  print(\"體溫異常，請重新量測!\")"
      ],
      "metadata": {
        "colab": {
          "base_uri": "https://localhost:8080/"
        },
        "id": "G8kwCX4zxtRW",
        "outputId": "fc7ad034-9a4c-46df-d27f-8c90080fd1e2"
      },
      "execution_count": 4,
      "outputs": [
        {
          "output_type": "stream",
          "name": "stdout",
          "text": [
            "請輸入體溫:36\n",
            "體溫正常!\n"
          ]
        }
      ]
    },
    {
      "cell_type": "code",
      "source": [
        "score = int(input(\"請輸入成績:\"))\n",
        "if score >= 90:\n",
        "  print(\"A\")\n",
        "elif score >= 80:\n",
        "  print(\"B\")\n",
        "elif score >= 70:\n",
        "  print(\"C\")\n",
        "elif score >= 60:\n",
        "  print(\"D\")\n",
        "else:\n",
        "  print(\"E\")"
      ],
      "metadata": {
        "colab": {
          "base_uri": "https://localhost:8080/"
        },
        "id": "W8-LI8cm1K2R",
        "outputId": "58ea4c63-8907-42c4-f427-81cdf912cb06"
      },
      "execution_count": 10,
      "outputs": [
        {
          "output_type": "stream",
          "name": "stdout",
          "text": [
            "請輸入成績:17\n",
            "E\n"
          ]
        }
      ]
    },
    {
      "cell_type": "code",
      "source": [
        "Net = int(input(\"請輸入今年收入淨額:\"))\n",
        "if Net >= 2000000:\n",
        "  print(\"付稅金額:\" , Net * 0.3 , \"元\")\n",
        "elif Net >= 1000000:\n",
        "  print(\"付稅金額:\" , Net * 0.21 , \"元\")\n",
        "elif Net >= 600000:\n",
        "  print(\"付稅金額:\" , Net * 0.13 , \"元\")\n",
        "elif Net >= 300000:\n",
        "  print(\"付稅金額:\" , Net * 0.06 , \"元\")\n",
        "else:\n",
        "  print(\"付稅金額:\" , 0 , \"元\")"
      ],
      "metadata": {
        "colab": {
          "base_uri": "https://localhost:8080/"
        },
        "id": "X-d41HTO4XdB",
        "outputId": "9ce683d2-3463-4aad-ac5f-b3e92b1da39f"
      },
      "execution_count": 11,
      "outputs": [
        {
          "output_type": "stream",
          "name": "stdout",
          "text": [
            "請輸入今年收入淨額:100000\n",
            "付稅金額: 0 元\n"
          ]
        }
      ]
    },
    {
      "cell_type": "code",
      "source": [
        "month = int(input(\"請輸入月份:\"))\n",
        "if month >= 3 and month <= 5:\n",
        "  print(month ,\"月是春天!\")\n",
        "elif month >= 6 and month <= 8:\n",
        "  print(month ,\"月是夏天!\")\n",
        "elif month >= 9 and month <= 11:\n",
        "  print(month ,\"月是秋天!\")\n",
        "elif month == 12 or 1 <= month <= 2:\n",
        "  print(month ,\"月是冬天!\")\n",
        "else:\n",
        "  print(\"月份不在範圍內!\")"
      ],
      "metadata": {
        "colab": {
          "base_uri": "https://localhost:8080/"
        },
        "id": "YGH22x612NXn",
        "outputId": "723cb9bb-efd6-42a0-9a8e-e5ca23bc4910"
      },
      "execution_count": 9,
      "outputs": [
        {
          "output_type": "stream",
          "name": "stdout",
          "text": [
            "請輸入月份:13\n",
            "月份不在範圍內!\n"
          ]
        }
      ]
    }
  ]
}