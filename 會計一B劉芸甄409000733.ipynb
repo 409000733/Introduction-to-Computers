{
  "nbformat": 4,
  "nbformat_minor": 0,
  "metadata": {
    "colab": {
      "provenance": [],
      "authorship_tag": "ABX9TyM7JtynPwEq5Mv8Wu5/Vqxj",
      "include_colab_link": true
    },
    "kernelspec": {
      "name": "python3",
      "display_name": "Python 3"
    },
    "language_info": {
      "name": "python"
    }
  },
  "cells": [
    {
      "cell_type": "markdown",
      "metadata": {
        "id": "view-in-github",
        "colab_type": "text"
      },
      "source": [
        "<a href=\"https://colab.research.google.com/github/409000733/Introduction-to-Computers/blob/main/%E6%9C%83%E8%A8%88%E4%B8%80B%E5%8A%89%E8%8A%B8%E7%94%84409000733.ipynb\" target=\"_parent\"><img src=\"https://colab.research.google.com/assets/colab-badge.svg\" alt=\"Open In Colab\"/></a>"
      ]
    },
    {
      "cell_type": "code",
      "execution_count": 1,
      "metadata": {
        "colab": {
          "base_uri": "https://localhost:8080/"
        },
        "id": "LBrtemaTHviE",
        "outputId": "20727734-5ed2-4e11-b2f2-ba6e4c3c9e13"
      },
      "outputs": [
        {
          "output_type": "stream",
          "name": "stdout",
          "text": [
            "Hello World\n"
          ]
        }
      ],
      "source": [
        "print(\"Hello World\")"
      ]
    },
    {
      "cell_type": "code",
      "source": [
        "tmp=0\n",
        "for i in range(1,5):\n",
        "  tmp +=i"
      ],
      "metadata": {
        "id": "QPVXTRZ7IR46"
      },
      "execution_count": 18,
      "outputs": []
    },
    {
      "cell_type": "code",
      "source": [
        "print('%d' % tmp)"
      ],
      "metadata": {
        "colab": {
          "base_uri": "https://localhost:8080/"
        },
        "id": "gZ6kpgL8S2a0",
        "outputId": "1846ac7f-b50d-417c-cfa0-c73eb8d72d41"
      },
      "execution_count": 22,
      "outputs": [
        {
          "output_type": "stream",
          "name": "stdout",
          "text": [
            "10\n"
          ]
        }
      ]
    },
    {
      "cell_type": "code",
      "source": [
        "存款 = int(input('請輸入本金存款金額:'))\n",
        "years = 1.02**6\n",
        "print('6年後存款為:' , years)"
      ],
      "metadata": {
        "colab": {
          "base_uri": "https://localhost:8080/"
        },
        "id": "ybvjRnk7U16j",
        "outputId": "1ea2d3cf-f14c-4dc7-eff2-2702c44df73d"
      },
      "execution_count": 28,
      "outputs": [
        {
          "output_type": "stream",
          "name": "stdout",
          "text": [
            "請輸入本金存款金額:10000\n",
            "6年後存款為: 1.126162419264\n"
          ]
        }
      ]
    },
    {
      "cell_type": "code",
      "source": [
        "F = float(input('請輸入華氏溫度:'))\n",
        "轉換公式 = (F-32)*5/9\n",
        "print('轉換後之攝氏溫度:', 轉換公式)"
      ],
      "metadata": {
        "colab": {
          "base_uri": "https://localhost:8080/"
        },
        "id": "6rUSZ-sSXG7F",
        "outputId": "94e24430-1b00-490e-c4b0-f51c7175a78e"
      },
      "execution_count": 40,
      "outputs": [
        {
          "output_type": "stream",
          "name": "stdout",
          "text": [
            "請輸入華氏溫度:100\n",
            "轉換後之攝氏溫度: 37.77777777777778\n"
          ]
        }
      ]
    }
  ]
}